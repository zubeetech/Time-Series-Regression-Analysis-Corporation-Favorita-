version https://git-lfs.github.com/spec/v1
oid sha256:b1145c056c93ce58339acedfca70d861487c418e930b19f39a57803a70fccf74
size 1022144
